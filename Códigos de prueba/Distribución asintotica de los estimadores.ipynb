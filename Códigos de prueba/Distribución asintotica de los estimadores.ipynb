{
 "cells": [
  {
   "cell_type": "code",
   "execution_count": 3,
   "id": "b27a2d9a",
   "metadata": {},
   "outputs": [],
   "source": [
    "import numpy as np\n",
    "import pandas as pd\n",
    "import matplotlib.pyplot as plt\n",
    "import seaborn\n",
    "from arch import arch_model\n",
    "from statsmodels.tsa.stattools import pacf\n",
    "from statsmodels.tsa.stattools import acf\n",
    "from statsmodels.graphics.tsaplots import plot_pacf\n",
    "from statsmodels.graphics.tsaplots import plot_acf\n",
    "from statsmodels.tsa.arima_process import ArmaProcess\n",
    "from scipy.stats import norm"
   ]
  },
  {
   "cell_type": "markdown",
   "id": "6c54a7b1",
   "metadata": {},
   "source": [
    "# Simulación con distribucion normal"
   ]
  },
  {
   "cell_type": "code",
   "execution_count": 8,
   "id": "4d1d131b",
   "metadata": {},
   "outputs": [],
   "source": [
    "mu =0\n",
    "omega = 0.1\n",
    "alpha = 0.4\n",
    "beta = 0.3\n",
    "sim_mod = arch_model(None, p=1, o=0, q=1,dist=\"normal\")\n",
    "params = {\"mu\":mu,\"omega\": omega,\"alpha[1]\":alpha,\"beta[1]\":beta}\n",
    "param = pd.Series(params)\n",
    "\n",
    "n=1000\n"
   ]
  },
  {
   "cell_type": "code",
   "execution_count": 9,
   "id": "64845e29",
   "metadata": {},
   "outputs": [],
   "source": [
    "np.random.seed(69)\n",
    "datos_simulados = []\n",
    "for i in range(n):\n",
    "    sim_data = sim_mod.simulate(param, 1000)\n",
    "    datos_simulados.append(sim_data[\"data\"])"
   ]
  },
  {
   "cell_type": "markdown",
   "id": "72ca618a",
   "metadata": {},
   "source": [
    "# Ajuste y Resultados"
   ]
  },
  {
   "cell_type": "code",
   "execution_count": 10,
   "id": "2ac76f56",
   "metadata": {},
   "outputs": [],
   "source": [
    "columns = [\"mu\",\"omega\",\"alpha1\",\"beta1\"]\n",
    "parametros = pd.DataFrame(columns=columns)\n",
    "parametros\n",
    "for i in range(n):\n",
    "    modelo = arch_model(datos_simulados[i], p=1, o=0, q=1)\n",
    "    res = modelo.fit(disp=\"off\")\n",
    "    new_row = pd.DataFrame([res.params.values], columns=columns)\n",
    "    parametros = pd.concat([parametros,new_row], axis=0)"
   ]
  },
  {
   "cell_type": "markdown",
   "id": "5c703016",
   "metadata": {},
   "source": [
    "parametros.hist(figsize=(10, 8), grid = False,bins=32);"
   ]
  },
  {
   "cell_type": "code",
   "execution_count": 11,
   "id": "968e2a40",
   "metadata": {},
   "outputs": [
    {
     "data": {
      "image/png": "[encoded data removed]",
      "text/plain": [
       "<Figure size 640x480 with 1 Axes>"
      ]
     },
     "metadata": {},
     "output_type": "display_data"
    }
   ],
   "source": [
    "plt.hist(parametros[\"alpha1\"],bins=32,density=True);\n",
    "f_normal = lambda x : np.exp(-(x-alpha)**2/(2*np.var(parametros[\"alpha1\"],)))/np.sqrt(2*np.pi*np.var(parametros[\"alpha1\"]))\n",
    "x = np.linspace(0, 1, 1000)\n",
    "plt.plot(x,f_normal(x));"
   ]
  },
  {
   "cell_type": "code",
   "execution_count": null,
   "id": "a1adb1dc",
   "metadata": {},
   "outputs": [],
   "source": []
  },
  {
   "cell_type": "code",
   "execution_count": null,
   "id": "0d0a2618",
   "metadata": {},
   "outputs": [],
   "source": []
  }
 ],
 "metadata": {
  "kernelspec": {
   "display_name": "Python 3 (ipykernel)",
   "language": "python",
   "name": "python3"
  },
  "language_info": {
   "codemirror_mode": {
    "name": "ipython",
    "version": 3
   },
   "file_extension": ".py",
   "mimetype": "text/x-python",
   "name": "python",
   "nbconvert_exporter": "python",
   "pygments_lexer": "ipython3",
   "version": "3.10.12"
  }
 },
 "nbformat": 4,
 "nbformat_minor": 5
}
