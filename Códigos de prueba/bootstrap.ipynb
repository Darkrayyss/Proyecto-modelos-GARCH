{
 "cells": [
  {
   "cell_type": "code",
   "execution_count": 4,
   "id": "02c667fe",
   "metadata": {},
   "outputs": [
    {
     "name": "stdout",
     "output_type": "stream",
     "text": [
      "Iteration:      1,   Func. Count:      6,   Neg. LLF: 4266.6799550327605\n",
      "Iteration:      2,   Func. Count:     15,   Neg. LLF: 1552.6665674461742\n",
      "Iteration:      3,   Func. Count:     23,   Neg. LLF: 1401.3419153045131\n",
      "Iteration:      4,   Func. Count:     28,   Neg. LLF: 1401.338942486964\n",
      "Iteration:      5,   Func. Count:     33,   Neg. LLF: 1401.3383622855702\n",
      "Iteration:      6,   Func. Count:     38,   Neg. LLF: 1401.3364018832574\n",
      "Iteration:      7,   Func. Count:     43,   Neg. LLF: 1401.3358355947444\n",
      "Iteration:      8,   Func. Count:     48,   Neg. LLF: 1401.3353662706668\n",
      "Iteration:      9,   Func. Count:     53,   Neg. LLF: 1401.335316999713\n",
      "Iteration:     10,   Func. Count:     58,   Neg. LLF: 1401.335312712447\n",
      "Iteration:     11,   Func. Count:     62,   Neg. LLF: 1401.335312712727\n",
      "Optimization terminated successfully    (Exit mode 0)\n",
      "            Current function value: 1401.335312712447\n",
      "            Iterations: 11\n",
      "            Function evaluations: 62\n",
      "            Gradient evaluations: 11\n"
     ]
    },
    {
     "ename": "AttributeError",
     "evalue": "'ARCHModelResult' object has no attribute 'cov_estimator'",
     "output_type": "error",
     "traceback": [
      "\u001b[1;31m---------------------------------------------------------------------------\u001b[0m",
      "\u001b[1;31mAttributeError\u001b[0m                            Traceback (most recent call last)",
      "Cell \u001b[1;32mIn[4], line 11\u001b[0m\n\u001b[0;32m      8\u001b[0m res \u001b[38;5;241m=\u001b[39m am\u001b[38;5;241m.\u001b[39mfit()\n\u001b[0;32m     10\u001b[0m \u001b[38;5;66;03m# Calcular la covarianza del estimador\u001b[39;00m\n\u001b[1;32m---> 11\u001b[0m covariance_estimator \u001b[38;5;241m=\u001b[39m \u001b[43mres\u001b[49m\u001b[38;5;241;43m.\u001b[39;49m\u001b[43mcov_estimator\u001b[49m\n\u001b[0;32m     12\u001b[0m \u001b[38;5;28mprint\u001b[39m(covariance_estimator)\n",
      "\u001b[1;31mAttributeError\u001b[0m: 'ARCHModelResult' object has no attribute 'cov_estimator'"
     ]
    }
   ],
   "source": [
    "import numpy as np\n",
    "import pandas as pd\n",
    "from arch import arch_model\n",
    "\n",
    "# Crear un modelo GARCH(1,1)\n",
    "returns = pd.Series(np.random.randn(1000))\n",
    "am = arch_model(returns, vol='Garch', p=1, q=1)\n",
    "res = am.fit()\n",
    "\n",
    "# Calcular la covarianza del estimador\n",
    "covariance_estimator = res.cov_estimator\n",
    "print(covariance_estimator)"
   ]
  },
  {
   "cell_type": "code",
   "execution_count": null,
   "id": "42581c86",
   "metadata": {},
   "outputs": [],
   "source": []
  }
 ],
 "metadata": {
  "kernelspec": {
   "display_name": "Python 3 (ipykernel)",
   "language": "python",
   "name": "python3"
  },
  "language_info": {
   "codemirror_mode": {
    "name": "ipython",
    "version": 3
   },
   "file_extension": ".py",
   "mimetype": "text/x-python",
   "name": "python",
   "nbconvert_exporter": "python",
   "pygments_lexer": "ipython3",
   "version": "3.10.12"
  }
 },
 "nbformat": 4,
 "nbformat_minor": 5
}
