{
 "cells": [
  {
   "cell_type": "code",
   "execution_count": 2,
   "id": "027abd50",
   "metadata": {},
   "outputs": [
    {
     "name": "stdout",
     "output_type": "stream",
     "text": [
      "Iteration:      1,   Func. Count:      6,   Neg. LLF: 292.0164521224053\n",
      "Iteration:      2,   Func. Count:     14,   Neg. LLF: 131.84774078067957\n",
      "Iteration:      3,   Func. Count:     20,   Neg. LLF: 131.7807505780017\n",
      "Iteration:      4,   Func. Count:     25,   Neg. LLF: 131.7594721558854\n",
      "Iteration:      5,   Func. Count:     30,   Neg. LLF: 131.75927424808748\n",
      "Iteration:      6,   Func. Count:     35,   Neg. LLF: 131.75899078232234\n",
      "Iteration:      7,   Func. Count:     40,   Neg. LLF: 131.75882830915262\n",
      "Iteration:      8,   Func. Count:     45,   Neg. LLF: 131.7587967682781\n",
      "Iteration:      9,   Func. Count:     50,   Neg. LLF: 131.75879536766917\n",
      "Iteration:     10,   Func. Count:     55,   Neg. LLF: 131.7587942424737\n",
      "Iteration:     11,   Func. Count:     59,   Neg. LLF: 131.7587942425766\n",
      "Optimization terminated successfully    (Exit mode 0)\n",
      "            Current function value: 131.7587942424737\n",
      "            Iterations: 11\n",
      "            Function evaluations: 59\n",
      "            Gradient evaluations: 11\n"
     ]
    },
    {
     "ename": "KeyError",
     "evalue": "-1",
     "output_type": "error",
     "traceback": [
      "\u001b[1;31m---------------------------------------------------------------------------\u001b[0m",
      "\u001b[1;31mValueError\u001b[0m                                Traceback (most recent call last)",
      "File \u001b[1;32m~\\anaconda3\\lib\\site-packages\\pandas\\core\\indexes\\range.py:345\u001b[0m, in \u001b[0;36mRangeIndex.get_loc\u001b[1;34m(self, key)\u001b[0m\n\u001b[0;32m    344\u001b[0m \u001b[38;5;28;01mtry\u001b[39;00m:\n\u001b[1;32m--> 345\u001b[0m     \u001b[38;5;28;01mreturn\u001b[39;00m \u001b[38;5;28;43mself\u001b[39;49m\u001b[38;5;241;43m.\u001b[39;49m\u001b[43m_range\u001b[49m\u001b[38;5;241;43m.\u001b[39;49m\u001b[43mindex\u001b[49m\u001b[43m(\u001b[49m\u001b[43mnew_key\u001b[49m\u001b[43m)\u001b[49m\n\u001b[0;32m    346\u001b[0m \u001b[38;5;28;01mexcept\u001b[39;00m \u001b[38;5;167;01mValueError\u001b[39;00m \u001b[38;5;28;01mas\u001b[39;00m err:\n",
      "\u001b[1;31mValueError\u001b[0m: -1 is not in range",
      "\nThe above exception was the direct cause of the following exception:\n",
      "\u001b[1;31mKeyError\u001b[0m                                  Traceback (most recent call last)",
      "Cell \u001b[1;32mIn[2], line 19\u001b[0m\n\u001b[0;32m     16\u001b[0m results \u001b[38;5;241m=\u001b[39m model\u001b[38;5;241m.\u001b[39mfit()\n\u001b[0;32m     18\u001b[0m \u001b[38;5;66;03m# Obtener la matriz de información de Fisher\u001b[39;00m\n\u001b[1;32m---> 19\u001b[0m fisher_info \u001b[38;5;241m=\u001b[39m results\u001b[38;5;241m.\u001b[39mconditional_volatility \u001b[38;5;241m/\u001b[39m \u001b[43mresults\u001b[49m\u001b[38;5;241;43m.\u001b[39;49m\u001b[43mconditional_volatility\u001b[49m\u001b[43m[\u001b[49m\u001b[38;5;241;43m-\u001b[39;49m\u001b[38;5;241;43m1\u001b[39;49m\u001b[43m]\u001b[49m\n\u001b[0;32m     21\u001b[0m \u001b[38;5;66;03m# Calcular la varianza asintótica del parámetro del modelo GARCH(1,1)\u001b[39;00m\n\u001b[0;32m     22\u001b[0m asymptotic_variance \u001b[38;5;241m=\u001b[39m fisher_info\u001b[38;5;241m.\u001b[39mvalues \u001b[38;5;241m@\u001b[39m results\u001b[38;5;241m.\u001b[39mcov_params() \u001b[38;5;241m@\u001b[39m fisher_info\u001b[38;5;241m.\u001b[39mvalues\u001b[38;5;241m.\u001b[39mT\n",
      "File \u001b[1;32m~\\anaconda3\\lib\\site-packages\\pandas\\core\\series.py:1007\u001b[0m, in \u001b[0;36mSeries.__getitem__\u001b[1;34m(self, key)\u001b[0m\n\u001b[0;32m   1004\u001b[0m     \u001b[38;5;28;01mreturn\u001b[39;00m \u001b[38;5;28mself\u001b[39m\u001b[38;5;241m.\u001b[39m_values[key]\n\u001b[0;32m   1006\u001b[0m \u001b[38;5;28;01melif\u001b[39;00m key_is_scalar:\n\u001b[1;32m-> 1007\u001b[0m     \u001b[38;5;28;01mreturn\u001b[39;00m \u001b[38;5;28;43mself\u001b[39;49m\u001b[38;5;241;43m.\u001b[39;49m\u001b[43m_get_value\u001b[49m\u001b[43m(\u001b[49m\u001b[43mkey\u001b[49m\u001b[43m)\u001b[49m\n\u001b[0;32m   1009\u001b[0m \u001b[38;5;28;01mif\u001b[39;00m is_hashable(key):\n\u001b[0;32m   1010\u001b[0m     \u001b[38;5;66;03m# Otherwise index.get_value will raise InvalidIndexError\u001b[39;00m\n\u001b[0;32m   1011\u001b[0m     \u001b[38;5;28;01mtry\u001b[39;00m:\n\u001b[0;32m   1012\u001b[0m         \u001b[38;5;66;03m# For labels that don't resolve as scalars like tuples and frozensets\u001b[39;00m\n",
      "File \u001b[1;32m~\\anaconda3\\lib\\site-packages\\pandas\\core\\series.py:1116\u001b[0m, in \u001b[0;36mSeries._get_value\u001b[1;34m(self, label, takeable)\u001b[0m\n\u001b[0;32m   1113\u001b[0m     \u001b[38;5;28;01mreturn\u001b[39;00m \u001b[38;5;28mself\u001b[39m\u001b[38;5;241m.\u001b[39m_values[label]\n\u001b[0;32m   1115\u001b[0m \u001b[38;5;66;03m# Similar to Index.get_value, but we do not fall back to positional\u001b[39;00m\n\u001b[1;32m-> 1116\u001b[0m loc \u001b[38;5;241m=\u001b[39m \u001b[38;5;28;43mself\u001b[39;49m\u001b[38;5;241;43m.\u001b[39;49m\u001b[43mindex\u001b[49m\u001b[38;5;241;43m.\u001b[39;49m\u001b[43mget_loc\u001b[49m\u001b[43m(\u001b[49m\u001b[43mlabel\u001b[49m\u001b[43m)\u001b[49m\n\u001b[0;32m   1118\u001b[0m \u001b[38;5;28;01mif\u001b[39;00m is_integer(loc):\n\u001b[0;32m   1119\u001b[0m     \u001b[38;5;28;01mreturn\u001b[39;00m \u001b[38;5;28mself\u001b[39m\u001b[38;5;241m.\u001b[39m_values[loc]\n",
      "File \u001b[1;32m~\\anaconda3\\lib\\site-packages\\pandas\\core\\indexes\\range.py:347\u001b[0m, in \u001b[0;36mRangeIndex.get_loc\u001b[1;34m(self, key)\u001b[0m\n\u001b[0;32m    345\u001b[0m         \u001b[38;5;28;01mreturn\u001b[39;00m \u001b[38;5;28mself\u001b[39m\u001b[38;5;241m.\u001b[39m_range\u001b[38;5;241m.\u001b[39mindex(new_key)\n\u001b[0;32m    346\u001b[0m     \u001b[38;5;28;01mexcept\u001b[39;00m \u001b[38;5;167;01mValueError\u001b[39;00m \u001b[38;5;28;01mas\u001b[39;00m err:\n\u001b[1;32m--> 347\u001b[0m         \u001b[38;5;28;01mraise\u001b[39;00m \u001b[38;5;167;01mKeyError\u001b[39;00m(key) \u001b[38;5;28;01mfrom\u001b[39;00m \u001b[38;5;21;01merr\u001b[39;00m\n\u001b[0;32m    348\u001b[0m \u001b[38;5;28;01mif\u001b[39;00m \u001b[38;5;28misinstance\u001b[39m(key, Hashable):\n\u001b[0;32m    349\u001b[0m     \u001b[38;5;28;01mraise\u001b[39;00m \u001b[38;5;167;01mKeyError\u001b[39;00m(key)\n",
      "\u001b[1;31mKeyError\u001b[0m: -1"
     ]
    }
   ],
   "source": [
    "import numpy as np\n",
    "import pandas as pd\n",
    "import arch\n",
    "\n",
    "# Generar datos de ejemplo (puedes reemplazar esto con tus propios datos)\n",
    "np.random.seed(42)\n",
    "returns = np.random.randn(100)\n",
    "\n",
    "# Crear un DataFrame con los datos\n",
    "data = pd.DataFrame({'returns': returns})\n",
    "\n",
    "# Especificar el modelo GARCH(1,1)\n",
    "model = arch.arch_model(data['returns'], vol='Garch', p=1, q=1)\n",
    "\n",
    "# Ajustar el modelo a los datos\n",
    "results = model.fit()\n",
    "\n",
    "# Obtener la matriz de información de Fisher\n",
    "fisher_info = results.conditional_volatility / results.conditional_volatility[-1]\n",
    "\n",
    "# Calcular la varianza asintótica del parámetro del modelo GARCH(1,1)\n",
    "asymptotic_variance = fisher_info.values @ results.cov_params() @ fisher_info.values.T\n",
    "\n",
    "# Mostrar resultados\n",
    "print(\"Parámetros del modelo GARCH(1,1):\")\n",
    "print(results.params)\n",
    "print(\"\\nVarianza Asintótica del Parámetro GARCH(1,1):\")\n",
    "print(asymptotic_variance)\n"
   ]
  },
  {
   "cell_type": "code",
   "execution_count": null,
   "id": "f80c14c9",
   "metadata": {},
   "outputs": [],
   "source": []
  }
 ],
 "metadata": {
  "kernelspec": {
   "display_name": "Python 3 (ipykernel)",
   "language": "python",
   "name": "python3"
  },
  "language_info": {
   "codemirror_mode": {
    "name": "ipython",
    "version": 3
   },
   "file_extension": ".py",
   "mimetype": "text/x-python",
   "name": "python",
   "nbconvert_exporter": "python",
   "pygments_lexer": "ipython3",
   "version": "3.10.12"
  }
 },
 "nbformat": 4,
 "nbformat_minor": 5
}
