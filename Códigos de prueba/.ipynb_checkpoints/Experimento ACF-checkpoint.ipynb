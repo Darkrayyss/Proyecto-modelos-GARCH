{
 "cells": [
  {
   "cell_type": "code",
   "execution_count": 1,
   "id": "afa9b70e",
   "metadata": {},
   "outputs": [],
   "source": [
    "import numpy as np\n",
    "import pandas as pd\n",
    "import matplotlib.pyplot as plt\n",
    "import seaborn\n",
    "from arch import arch_model\n",
    "from statsmodels.tsa.stattools import pacf\n",
    "from statsmodels.tsa.stattools import acf\n",
    "from statsmodels.graphics.tsaplots import plot_pacf\n",
    "from statsmodels.graphics.tsaplots import plot_acf\n",
    "from statsmodels.tsa.arima_process import ArmaProcess\n",
    "from scipy.stats import norm"
   ]
  },
  {
   "cell_type": "markdown",
   "id": "871fa23d",
   "metadata": {},
   "source": [
    "# Simulacion"
   ]
  },
  {
   "cell_type": "code",
   "execution_count": 2,
   "id": "baa20c42",
   "metadata": {},
   "outputs": [],
   "source": [
    "mu =0\n",
    "omega = 0.1\n",
    "alpha = 0.4\n",
    "beta = 0.3\n",
    "sim_mod = arch_model(None, p=1, o=0, q=1,dist=\"normal\")\n",
    "params = {\"mu\":mu,\"omega\": omega,\"alpha[1]\":alpha,\"beta[1]\":beta}\n",
    "param = pd.Series(params)\n",
    "\n",
    "n=100\n"
   ]
  },
  {
   "cell_type": "code",
   "execution_count": null,
   "id": "0d2b095e",
   "metadata": {},
   "outputs": [],
   "source": [
    "np.random.seed(69)\n",
    "datos_simulados = []\n",
    "for i in range(n):\n",
    "    sim_data = sim_mod.simulate(param, 1000000)\n",
    "    datos_simulados.append(sim_data[\"data\"])\n"
   ]
  },
  {
   "cell_type": "markdown",
   "id": "df5f362f",
   "metadata": {},
   "source": [
    "# ACF teorica"
   ]
  },
  {
   "cell_type": "code",
   "execution_count": null,
   "id": "92062f37",
   "metadata": {},
   "outputs": [],
   "source": [
    "def acf_garch(a,b,h):\n",
    "    # h>=1\n",
    "    p_1 = a*(1-b*(a+b))/(1-(a+b)**2+a**2) \n",
    "    p_h = p_1 *(a+b)**(h-1)\n",
    "    return p_h"
   ]
  },
  {
   "cell_type": "code",
   "execution_count": null,
   "id": "e6d45b20",
   "metadata": {},
   "outputs": [],
   "source": [
    "acf_teory = []\n",
    "for i in range(1,20):\n",
    "    acf_teory.append(acf_garch(alpha,beta,i))\n",
    "    \n",
    "x = np.arange(1,20)\n"
   ]
  },
  {
   "cell_type": "markdown",
   "id": "445e0d6f",
   "metadata": {},
   "source": [
    "# Calculo de la muestral"
   ]
  },
  {
   "cell_type": "code",
   "execution_count": null,
   "id": "b87c30ce",
   "metadata": {},
   "outputs": [],
   "source": [
    "acfs = []\n",
    "for i in range(n):\n",
    "    acfs.append(acf(np.square(datos_simulados[i]),nlags = 20))"
   ]
  },
  {
   "cell_type": "code",
   "execution_count": null,
   "id": "9c437984",
   "metadata": {},
   "outputs": [],
   "source": [
    "df = pd.DataFrame(acfs, columns=np.arange(0, 21))\n",
    "acf_mean = df.mean()"
   ]
  },
  {
   "cell_type": "markdown",
   "id": "10524e9e",
   "metadata": {},
   "source": [
    "# Graficos"
   ]
  },
  {
   "cell_type": "code",
   "execution_count": null,
   "id": "7f89a45e",
   "metadata": {},
   "outputs": [],
   "source": [
    "plt.scatter(x,acf_mean[1:20])\n",
    "plt.scatter(x,acf_teory);"
   ]
  },
  {
   "cell_type": "code",
   "execution_count": null,
   "id": "4aa36dba",
   "metadata": {},
   "outputs": [],
   "source": []
  }
 ],
 "metadata": {
  "kernelspec": {
   "display_name": "Python 3 (ipykernel)",
   "language": "python",
   "name": "python3"
  },
  "language_info": {
   "codemirror_mode": {
    "name": "ipython",
    "version": 3
   },
   "file_extension": ".py",
   "mimetype": "text/x-python",
   "name": "python",
   "nbconvert_exporter": "python",
   "pygments_lexer": "ipython3",
   "version": "3.10.12"
  }
 },
 "nbformat": 4,
 "nbformat_minor": 5
}
