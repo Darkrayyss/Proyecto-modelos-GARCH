{
 "cells": [
  {
   "cell_type": "code",
   "execution_count": 2,
   "id": "2c595a06",
   "metadata": {},
   "outputs": [],
   "source": [
    "import numpy as np\n",
    "import pandas as pd\n",
    "import matplotlib.pyplot as plt\n",
    "import seaborn\n",
    "from arch import arch_model\n"
   ]
  },
  {
   "cell_type": "markdown",
   "id": "734c6b0c",
   "metadata": {},
   "source": [
    "# Simulación"
   ]
  },
  {
   "cell_type": "code",
   "execution_count": 3,
   "id": "cef7d76a",
   "metadata": {},
   "outputs": [],
   "source": [
    "np.random.seed(11)"
   ]
  },
  {
   "cell_type": "code",
   "execution_count": 4,
   "id": "2a073a31",
   "metadata": {},
   "outputs": [],
   "source": [
    "sim_mod = arch_model(None, p=2, o=0, q=2)\n",
    "params = {\"mu\":0,\"omega\": 0.4,\"alpha[1]\":0.1,\"alpha[2]\":0.3,\"beta[1]\":0.3,\"beta[2]\":0.2}\n",
    "param = pd.Series(params)\n",
    "\n",
    "n=10000\n"
   ]
  },
  {
   "cell_type": "code",
   "execution_count": null,
   "id": "78b5fd0f",
   "metadata": {},
   "outputs": [],
   "source": [
    "datos_simulados = []\n",
    "for i in range(n):\n",
    "    sim_data = sim_mod.simulate(param, 1000)\n",
    "    datos_simulados.append(sim_data[\"data\"])\n"
   ]
  },
  {
   "cell_type": "markdown",
   "id": "868745a7",
   "metadata": {},
   "source": [
    "# PACF y ACF"
   ]
  },
  {
   "cell_type": "code",
   "execution_count": null,
   "id": "4f823f57",
   "metadata": {},
   "outputs": [],
   "source": []
  },
  {
   "cell_type": "code",
   "execution_count": null,
   "id": "9205d6a8",
   "metadata": {},
   "outputs": [],
   "source": []
  },
  {
   "cell_type": "code",
   "execution_count": null,
   "id": "7bed1998",
   "metadata": {},
   "outputs": [],
   "source": []
  },
  {
   "cell_type": "markdown",
   "id": "f29ea506",
   "metadata": {},
   "source": [
    "# Ajuste"
   ]
  },
  {
   "cell_type": "code",
   "execution_count": null,
   "id": "5812206d",
   "metadata": {},
   "outputs": [],
   "source": [
    "columns = [\"mu\",\"omega\",\"alpha1\",\"alpha2\",\"beta1\",\"beta2\"]\n",
    "parametros = pd.DataFrame(columns=columns)\n",
    "parametros\n",
    "for i in range(n):\n",
    "    modelo = arch_model(datos_simulados[i], p=2, o=0, q=2)\n",
    "    res = modelo.fit(disp=\"off\")\n",
    "    new_row = pd.DataFrame([res.params.values], columns=columns)\n",
    "    parametros = pd.concat([parametros,new_row], axis=0)\n",
    "    \n",
    "    "
   ]
  },
  {
   "cell_type": "code",
   "execution_count": null,
   "id": "b2bf9eed",
   "metadata": {},
   "outputs": [],
   "source": [
    "parametros.head()"
   ]
  },
  {
   "cell_type": "code",
   "execution_count": null,
   "id": "f11d2566",
   "metadata": {},
   "outputs": [],
   "source": [
    "parametros.hist(figsize=(10, 8), grid = False,bins=32);"
   ]
  },
  {
   "cell_type": "code",
   "execution_count": null,
   "id": "557b6dab",
   "metadata": {},
   "outputs": [],
   "source": [
    "plt.hist(parametros[\"beta1\"],bins=32);"
   ]
  },
  {
   "cell_type": "code",
   "execution_count": 1,
   "id": "a862b367",
   "metadata": {},
   "outputs": [
    {
     "ename": "NameError",
     "evalue": "name 'parametros' is not defined",
     "output_type": "error",
     "traceback": [
      "\u001b[1;31m---------------------------------------------------------------------------\u001b[0m",
      "\u001b[1;31mNameError\u001b[0m                                 Traceback (most recent call last)",
      "Cell \u001b[1;32mIn[1], line 1\u001b[0m\n\u001b[1;32m----> 1\u001b[0m \u001b[38;5;28mmin\u001b[39m(\u001b[43mparametros\u001b[49m[\u001b[38;5;124m\"\u001b[39m\u001b[38;5;124mbeta1\u001b[39m\u001b[38;5;124m\"\u001b[39m])\n",
      "\u001b[1;31mNameError\u001b[0m: name 'parametros' is not defined"
     ]
    }
   ],
   "source": [
    "min(parametros[\"beta1\"])"
   ]
  },
  {
   "cell_type": "code",
   "execution_count": null,
   "id": "a21f3fb9",
   "metadata": {},
   "outputs": [],
   "source": []
  }
 ],
 "metadata": {
  "kernelspec": {
   "display_name": "Python 3 (ipykernel)",
   "language": "python",
   "name": "python3"
  },
  "language_info": {
   "codemirror_mode": {
    "name": "ipython",
    "version": 3
   },
   "file_extension": ".py",
   "mimetype": "text/x-python",
   "name": "python",
   "nbconvert_exporter": "python",
   "pygments_lexer": "ipython3",
   "version": "3.10.12"
  }
 },
 "nbformat": 4,
 "nbformat_minor": 5
}
