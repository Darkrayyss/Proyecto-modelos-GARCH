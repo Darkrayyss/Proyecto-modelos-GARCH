{
 "cells": [
  {
   "cell_type": "code",
   "execution_count": 1,
   "id": "2c595a06",
   "metadata": {},
   "outputs": [],
   "source": [
    "import numpy as np\n",
    "import pandas as pd\n",
    "import matplotlib.pyplot as plt\n",
    "import seaborn\n",
    "from arch import arch_model\n",
    "from statsmodels.tsa.stattools import pacf\n",
    "from statsmodels.tsa.stattools import acf\n",
    "from statsmodels.graphics.tsaplots import plot_pacf\n",
    "from statsmodels.graphics.tsaplots import plot_acf\n",
    "from statsmodels.tsa.arima_process import ArmaProcess\n",
    "from scipy.stats import norm"
   ]
  },
  {
   "cell_type": "markdown",
   "id": "734c6b0c",
   "metadata": {},
   "source": [
    "# Simulación"
   ]
  },
  {
   "cell_type": "code",
   "execution_count": 2,
   "id": "2a073a31",
   "metadata": {},
   "outputs": [],
   "source": [
    "mu =0\n",
    "omega = 0.1\n",
    "alpha = 0.4\n",
    "beta = 0.3\n",
    "sim_mod = arch_model(None, p=1, o=0, q=1,dist=\"normal\")\n",
    "params = {\"mu\":mu,\"omega\": omega,\"alpha[1]\":alpha,\"beta[1]\":beta}\n",
    "param = pd.Series(params)\n",
    "\n",
    "n=100\n"
   ]
  },
  {
   "cell_type": "code",
   "execution_count": 3,
   "id": "78b5fd0f",
   "metadata": {},
   "outputs": [],
   "source": [
    "np.random.seed(69)\n",
    "datos_simulados = []\n",
    "for i in range(n):\n",
    "    sim_data = sim_mod.simulate(param, 1000000)\n",
    "    datos_simulados.append(sim_data[\"data\"])\n"
   ]
  },
  {
   "cell_type": "code",
   "execution_count": null,
   "id": "76a5ee27",
   "metadata": {},
   "outputs": [],
   "source": [
    "sim_data"
   ]
  },
  {
   "cell_type": "code",
   "execution_count": null,
   "id": "4ca97901",
   "metadata": {},
   "outputs": [],
   "source": [
    "plt.plot(datos_simulados[20])"
   ]
  },
  {
   "cell_type": "code",
   "execution_count": null,
   "id": "39038a7d",
   "metadata": {},
   "outputs": [],
   "source": [
    "plt.hist(datos_simulados[10],bins=32,density=True)\n",
    "f_normal = lambda x : np.exp(-x**2/2)/np.sqrt(2*np.pi)\n",
    "x = np.linspace(-14, 14, 1000)\n",
    "plt.plot(x,f_normal(x));\n"
   ]
  },
  {
   "cell_type": "markdown",
   "id": "59c7cd62",
   "metadata": {},
   "source": [
    "# EXTRACTO PENSADO PARA SERIES, NO MIRAR SI QUIERE CODIGO PARA SIMULACIÓN"
   ]
  },
  {
   "cell_type": "code",
   "execution_count": null,
   "id": "45b65c4b",
   "metadata": {},
   "outputs": [],
   "source": [
    "plot_acf(datos_simulados[1]);"
   ]
  },
  {
   "cell_type": "code",
   "execution_count": null,
   "id": "c55e3eb6",
   "metadata": {},
   "outputs": [],
   "source": [
    "plot_pacf(datos_simulados[3]);"
   ]
  },
  {
   "cell_type": "code",
   "execution_count": null,
   "id": "c302c5b5",
   "metadata": {},
   "outputs": [],
   "source": [
    "plot_acf(datos_simulados[1]**2);"
   ]
  },
  {
   "cell_type": "code",
   "execution_count": null,
   "id": "4d791dc1",
   "metadata": {},
   "outputs": [],
   "source": [
    "plot_pacf(datos_simulados[3]**2);"
   ]
  },
  {
   "cell_type": "code",
   "execution_count": null,
   "id": "1f85ef8a",
   "metadata": {},
   "outputs": [],
   "source": [
    "import numpy as np\n",
    "import matplotlib.pyplot as plt\n",
    "import statsmodels.api as sm\n",
    "\n",
    "# Parámetros del modelo ARMA(1,1)\n",
    "phi_1 = 0.7\n",
    "theta_1 = 0.4\n",
    "\n",
    "# Coeficientes del ARMA(1,1)\n",
    "ar_params = np.array([1,-phi_1])\n",
    "ma_params = np.array([1,-theta_1])\n",
    "\n",
    "# Número de rezagos a considerar\n",
    "lag = 10\n",
    "\n",
    "# Crear un modelo ARMA(1,1)\n",
    "arma_model = sm.tsa.ArmaProcess(ar_params, ma_params)\n",
    "\n",
    "# Calcular la autocorrelación teórica\n",
    "acf_values = arma_model.acf(lag)\n",
    "x = np.arange(10)\n",
    "acf_values"
   ]
  },
  {
   "cell_type": "code",
   "execution_count": null,
   "id": "614e0405",
   "metadata": {},
   "outputs": [],
   "source": [
    "pru =  [1]+acf_mean[1:10].tolist()\n",
    "plt.scatter(x,acf_values);\n",
    "plt.scatter(x,pru,color=\"red\");"
   ]
  },
  {
   "cell_type": "markdown",
   "id": "2e42c863",
   "metadata": {},
   "source": [
    "# FIN DEL EXTRACTO PENSADO PARA SERIES"
   ]
  },
  {
   "cell_type": "markdown",
   "id": "868745a7",
   "metadata": {},
   "source": [
    "# PACF y ACF"
   ]
  },
  {
   "cell_type": "markdown",
   "id": "45ed1c6e",
   "metadata": {},
   "source": [
    "## ACF\n",
    "\n",
    "ACF toerica del $\\epsilon^{2}$ para un garch(1,1), extraida del libro GARCH Forecasting Model pág 50 del libro a\n"
   ]
  },
  {
   "cell_type": "code",
   "execution_count": 4,
   "id": "30908906",
   "metadata": {},
   "outputs": [],
   "source": [
    "def acf_garch(a,b,h):\n",
    "    # h>=1\n",
    "    p_1 = a*(1-b*(a+b))/(1-(a+b)**2+a**2) \n",
    "    p_h = p_1 *(a+b)**(h-1)\n",
    "    return p_h\n",
    "    "
   ]
  },
  {
   "cell_type": "code",
   "execution_count": 5,
   "id": "98295a7d",
   "metadata": {},
   "outputs": [],
   "source": [
    "acf_teory = []\n",
    "for i in range(1,20):\n",
    "    acf_teory.append(acf_garch(alpha,beta,i))\n",
    "    \n",
    "x = np.arange(1,20)\n",
    "\n"
   ]
  },
  {
   "cell_type": "code",
   "execution_count": 6,
   "id": "9af1b523",
   "metadata": {},
   "outputs": [
    {
     "data": {
      "text/plain": [
       "[0.47164179104477616,\n",
       " 0.3301492537313433,\n",
       " 0.23110447761194028,\n",
       " 0.1617731343283582,\n",
       " 0.11324119402985074,\n",
       " 0.0792688358208955,\n",
       " 0.055488185074626856,\n",
       " 0.038841729552238795,\n",
       " 0.027189210686567152,\n",
       " 0.019032447480597008,\n",
       " 0.013322713236417903,\n",
       " 0.009325899265492533,\n",
       " 0.006528129485844772,\n",
       " 0.00456969064009134,\n",
       " 0.0031987834480639377,\n",
       " 0.0022391484136447563,\n",
       " 0.0015674038895513293,\n",
       " 0.0010971827226859303,\n",
       " 0.0007680279058801512]"
      ]
     },
     "execution_count": 6,
     "metadata": {},
     "output_type": "execute_result"
    }
   ],
   "source": [
    "acf_teory"
   ]
  },
  {
   "cell_type": "code",
   "execution_count": 7,
   "id": "bbc9a010",
   "metadata": {},
   "outputs": [],
   "source": [
    "acfs = []\n",
    "for i in range(n):\n",
    "    acfs.append(acf(np.square(datos_simulados[i]),nlags = 20))"
   ]
  },
  {
   "cell_type": "code",
   "execution_count": 8,
   "id": "7bed1998",
   "metadata": {},
   "outputs": [
    {
     "data": {
      "text/plain": [
       "1     0.457673\n",
       "2     0.314428\n",
       "3     0.217060\n",
       "4     0.151036\n",
       "5     0.103889\n",
       "6     0.071453\n",
       "7     0.050017\n",
       "8     0.035014\n",
       "9     0.023921\n",
       "10    0.016586\n",
       "11    0.011295\n",
       "12    0.007868\n",
       "13    0.005212\n",
       "14    0.003609\n",
       "15    0.002490\n",
       "16    0.001678\n",
       "17    0.001175\n",
       "18    0.000714\n",
       "19    0.000782\n",
       "dtype: float64"
      ]
     },
     "execution_count": 8,
     "metadata": {},
     "output_type": "execute_result"
    }
   ],
   "source": [
    "\n",
    "df = pd.DataFrame(acfs, columns=np.arange(0, 21))\n",
    "acf_mean = df.mean()\n",
    "acf_mean[1:20]"
   ]
  },
  {
   "cell_type": "markdown",
   "id": "0a3debe9",
   "metadata": {},
   "source": [
    "Comparación de lo teorico con el promedio de la afc de las $n$ trayectorias"
   ]
  },
  {
   "cell_type": "code",
   "execution_count": 9,
   "id": "cd2e831c",
   "metadata": {},
   "outputs": [
    {
     "data": {
      "image/png": "[encoded data removed]",
      "text/plain": [
       "<Figure size 640x480 with 1 Axes>"
      ]
     },
     "metadata": {},
     "output_type": "display_data"
    }
   ],
   "source": [
    "plt.scatter(x,acf_mean[1:20])\n",
    "plt.scatter(x,acf_teory);"
   ]
  },
  {
   "cell_type": "markdown",
   "id": "34bd9b95",
   "metadata": {},
   "source": [
    "## PACF"
   ]
  },
  {
   "cell_type": "code",
   "execution_count": null,
   "id": "bd42635e",
   "metadata": {},
   "outputs": [],
   "source": [
    "def pacf_garch(corr,h):\n",
    "    a = [1]\n",
    "    for i in range(19):\n",
    "        for j in range(19):\n",
    "            print(\"nose\")\n",
    "            \n",
    "    \n",
    "    "
   ]
  },
  {
   "cell_type": "code",
   "execution_count": null,
   "id": "488fae6f",
   "metadata": {},
   "outputs": [],
   "source": []
  },
  {
   "cell_type": "code",
   "execution_count": null,
   "id": "ee67ad80",
   "metadata": {},
   "outputs": [],
   "source": []
  },
  {
   "cell_type": "code",
   "execution_count": null,
   "id": "67bc317a",
   "metadata": {},
   "outputs": [],
   "source": []
  },
  {
   "cell_type": "code",
   "execution_count": null,
   "id": "b0f97af0",
   "metadata": {},
   "outputs": [],
   "source": []
  },
  {
   "cell_type": "code",
   "execution_count": null,
   "id": "f4de1a87",
   "metadata": {},
   "outputs": [],
   "source": []
  },
  {
   "cell_type": "markdown",
   "id": "f29ea506",
   "metadata": {},
   "source": [
    "# Ajuste\n",
    "Ajuste de las n trayectorias a traves del estimador maximo verosimil \n",
    "Se ocupa el resultado Trabajo de Grado sobre Modelos ARCH y GARCH en la pagina 30 del lector de pdf(28 en la hoja) sobre normalidad asintotica"
   ]
  },
  {
   "cell_type": "code",
   "execution_count": null,
   "id": "5812206d",
   "metadata": {},
   "outputs": [],
   "source": [
    "columns = [\"mu\",\"omega\",\"alpha1\",\"beta1\"]\n",
    "parametros = pd.DataFrame(columns=columns)\n",
    "parametros\n",
    "for i in range(n):\n",
    "    modelo = arch_model(datos_simulados[i], p=1, o=0, q=1)\n",
    "    res = modelo.fit(disp=\"off\")\n",
    "    new_row = pd.DataFrame([res.params.values], columns=columns)\n",
    "    parametros = pd.concat([parametros,new_row], axis=0)\n",
    "    \n",
    "    "
   ]
  },
  {
   "cell_type": "code",
   "execution_count": null,
   "id": "b2bf9eed",
   "metadata": {},
   "outputs": [],
   "source": [
    "parametros.head()"
   ]
  },
  {
   "cell_type": "code",
   "execution_count": null,
   "id": "f11d2566",
   "metadata": {},
   "outputs": [],
   "source": [
    "parametros.hist(figsize=(10, 8), grid = False,bins=32);"
   ]
  },
  {
   "cell_type": "code",
   "execution_count": null,
   "id": "557b6dab",
   "metadata": {},
   "outputs": [],
   "source": [
    "plt.hist(parametros[\"alpha1\"],bins=32,density=True);\n",
    "f_normal = lambda x : np.exp(-(x-alpha)**2/(2*np.var(parametros[\"alpha1\"],)))/np.sqrt(2*np.pi*np.var(parametros[\"alpha1\"]))\n",
    "x = np.linspace(0, 1, 1000)\n",
    "plt.plot(x,f_normal(x));"
   ]
  },
  {
   "cell_type": "code",
   "execution_count": null,
   "id": "ea91d5f2",
   "metadata": {},
   "outputs": [],
   "source": [
    "parametros.mean()"
   ]
  },
  {
   "cell_type": "code",
   "execution_count": null,
   "id": "ff0e2e9f",
   "metadata": {},
   "outputs": [],
   "source": [
    "parametros.var()"
   ]
  },
  {
   "cell_type": "code",
   "execution_count": null,
   "id": "f7788d50",
   "metadata": {},
   "outputs": [],
   "source": []
  },
  {
   "cell_type": "code",
   "execution_count": null,
   "id": "d28fabbb",
   "metadata": {},
   "outputs": [],
   "source": []
  },
  {
   "cell_type": "code",
   "execution_count": null,
   "id": "5c50b3b8",
   "metadata": {},
   "outputs": [],
   "source": []
  },
  {
   "cell_type": "code",
   "execution_count": null,
   "id": "f0a1a0bc",
   "metadata": {},
   "outputs": [],
   "source": []
  },
  {
   "cell_type": "markdown",
   "id": "837e6d00",
   "metadata": {},
   "source": [
    "# Teorema 5.1\n",
    "Teorema 5.1 del libro GARCH Forecasting Model pág 94"
   ]
  },
  {
   "cell_type": "code",
   "execution_count": null,
   "id": "174cd33c",
   "metadata": {},
   "outputs": [],
   "source": [
    "acfs51 = []\n",
    "for i in range(n):\n",
    "    acfs51.append(acf(datos_simulados[i],nlags = 10))"
   ]
  },
  {
   "cell_type": "code",
   "execution_count": null,
   "id": "d1a39115",
   "metadata": {},
   "outputs": [],
   "source": [
    "p1 = []\n",
    "for i in range(len(acfs51)):\n",
    "    p1.append(np.sqrt(len(datos_simulados[1]))*acfs51[i][2])"
   ]
  },
  {
   "cell_type": "code",
   "execution_count": null,
   "id": "39dbcfa7",
   "metadata": {},
   "outputs": [],
   "source": [
    "plt.hist(p1,bins=32,density=True);\n",
    "f_normal = lambda x : np.exp(-x**2/(2*np.var(p1)))/np.sqrt(2*np.pi*np.var(p1))\n",
    "f_normal2 = lambda x : np.exp(-x**2/(2*final))/np.sqrt(2*np.pi*final)\n",
    "x = np.linspace(-14, 14, 1000)\n",
    "plt.plot(x,f_normal(x));\n",
    "plt.plot(x,f_normal2(x));"
   ]
  },
  {
   "cell_type": "code",
   "execution_count": null,
   "id": "68f763fb",
   "metadata": {},
   "outputs": [],
   "source": [
    "np.array(p1).var()"
   ]
  },
  {
   "cell_type": "code",
   "execution_count": null,
   "id": "75a478fb",
   "metadata": {},
   "outputs": [],
   "source": [
    "def varianza(omega,a,b,h):\n",
    "    t1 = ((1+a+b)*(a+b)**h) / ((1-(a+b)**2-2*a**2)*(1-a-b))\n",
    "    t2 = (1-(a+b)**h)/(1+a+b)**2\n",
    "    return omega**2*(t1+t2)"
   ]
  },
  {
   "cell_type": "code",
   "execution_count": null,
   "id": "d08d779a",
   "metadata": {},
   "outputs": [],
   "source": [
    "v = varianza(omega,alpha,beta,2)\n",
    "sigma = omega/(1-alpha-beta)\n",
    "final = v/sigma**2"
   ]
  },
  {
   "cell_type": "code",
   "execution_count": null,
   "id": "0d47b322",
   "metadata": {},
   "outputs": [],
   "source": [
    "final"
   ]
  },
  {
   "cell_type": "code",
   "execution_count": null,
   "id": "935f5d83",
   "metadata": {},
   "outputs": [],
   "source": []
  },
  {
   "cell_type": "code",
   "execution_count": null,
   "id": "47a29baa",
   "metadata": {},
   "outputs": [],
   "source": []
  },
  {
   "cell_type": "code",
   "execution_count": null,
   "id": "79d3f153",
   "metadata": {},
   "outputs": [],
   "source": []
  },
  {
   "cell_type": "code",
   "execution_count": null,
   "id": "176c4617",
   "metadata": {},
   "outputs": [],
   "source": [
    "def cov(datos):\n",
    "    suma =0\n",
    "    n = len(datos)\n",
    "    for i in range(n):\n",
    "        suma = suma+ datos[i]**2\n",
    "    return suma/n"
   ]
  },
  {
   "cell_type": "code",
   "execution_count": null,
   "id": "c6ee6a68",
   "metadata": {},
   "outputs": [],
   "source": [
    "suma =0\n",
    "for i in range(len(datos_simulados)):\n",
    "    suma = suma + cov(datos_simulados[1])*acfs51[i][1]\n",
    "suma = suma/len(datos_simulados)\n",
    "suma/sigma"
   ]
  },
  {
   "cell_type": "code",
   "execution_count": null,
   "id": "416b97b0",
   "metadata": {},
   "outputs": [],
   "source": []
  },
  {
   "cell_type": "code",
   "execution_count": null,
   "id": "6853e301",
   "metadata": {},
   "outputs": [],
   "source": []
  }
 ],
 "metadata": {
  "kernelspec": {
   "display_name": "Python 3 (ipykernel)",
   "language": "python",
   "name": "python3"
  },
  "language_info": {
   "codemirror_mode": {
    "name": "ipython",
    "version": 3
   },
   "file_extension": ".py",
   "mimetype": "text/x-python",
   "name": "python",
   "nbconvert_exporter": "python",
   "pygments_lexer": "ipython3",
   "version": "3.10.12"
  }
 },
 "nbformat": 4,
 "nbformat_minor": 5
}
