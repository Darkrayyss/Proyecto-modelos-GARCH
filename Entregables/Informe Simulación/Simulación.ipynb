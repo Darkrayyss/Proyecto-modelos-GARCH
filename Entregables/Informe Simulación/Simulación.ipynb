{
 "cells": [
  {
   "cell_type": "markdown",
   "metadata": {},
   "source": [
    "<center><img src=\"https://matematica.usm.cl/wp-content/themes/dmatUSM/assets/img/logoDMAT2.png\" title=\"Title text\" /></center>\n",
    "<hr style=\"height:2px;border:none\"/>\n",
    "<h1 align='center'> Modelos GARCH - Simulación estocástica</h1>\n",
    "<h2 align='center'> Diego Astaburuaga, David Rivas </h2>\n",
    "<hr style=\"height:2px;border:none\"/>\n",
    "\n",
    "<p style=\"text-align: center;\">\n",
    "    <img src=\"https://github.com/Darkrayyss/Proyecto-Final-MAT281/raw/307f0d0f14aefbff8de7698d0c645d680ced6994/Carpet%20for%20Test%201/images/Capy2.png\" alt=\"Capybara trabajando\" width=\"300\" style=\"border: 7px solid black;\">\n",
    "    <br>\n",
    "    <small>(Humor) Foto de Diego discutiendo con chatgpt.</small>\n",
    "</p>"
   ]
  },
  {
   "cell_type": "markdown",
   "metadata": {},
   "source": [
    "**Definición:** (Proceso GARCH fuerte) Sea $(\\eta_t)$ una secuencia de variables independientes e idénticamente distribuidas con distribuci\\'on $\\eta$. El proceso $(\\epsilon_t)$ se le denota como proceso $\\operatorname{GARCH}(p,q)$ fuerte (con respecto a la secuencia $(\\eta_t)$) si\n",
    "\\begin{equation}\n",
    "    \\left\\{\n",
    "    \\begin{aligned}\n",
    "        \\epsilon_t &= \\sigma_t \\eta_t\\\\\n",
    "        \\sigma_t^2 &= \\omega + \\sum_{i=1}^q \\alpha_i \\epsilon_{t-i}^2+\\sum_{j=1}^p\\beta_j\\sigma_{t-j}^2\n",
    "    \\end{aligned}\n",
    "    \\right.\n",
    "\\end{equation}\n",
    "donde los $\\alpha_i$ y $\\beta_j$ son constantes no negativas y $\\omega$ es una constante estrictamente positiva."
   ]
  },
  {
   "cell_type": "code",
   "execution_count": null,
   "metadata": {},
   "outputs": [],
   "source": []
  }
 ],
 "metadata": {
  "language_info": {
   "name": "python"
  }
 },
 "nbformat": 4,
 "nbformat_minor": 2
}
